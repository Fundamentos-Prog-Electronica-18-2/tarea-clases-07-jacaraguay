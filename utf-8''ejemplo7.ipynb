{
  "cells": [
    {
      "metadata": {
        "trusted": true
      },
      "cell_type": "code",
      "source": "\"\"\"\nPresentar el promedio de estaturas de un cojunto de estudiantes, considerar:\n   El usuario preguntar cuantas estaturas se requiere ingresar\n   Al final se debe presentar el promedio de las estaturas previamente ingresadas\n\"\"\"\n\ncontador=1\nlimite_estaturas=0\nsuma_estaturas=0\npromedio_estaturas=0\nlimite_estaturas=input(\"ingrese numero de estaturas a considerar:\\n\")\nlimite_estaturas=int(limite_estaturas)\n# decalro una variable inicializada en cadena vacia\nestatura=0\ncadena_presentar= \"\"\n",
      "execution_count": 17,
      "outputs": [
        {
          "output_type": "stream",
          "name": "stdout",
          "text": "ingrese numero de estaturas a considerar:\n2\n"
        }
      ]
    },
    {
      "metadata": {
        "trusted": true
      },
      "cell_type": "code",
      "source": "while contador <= limite_estaturas:\n    \n    estatura=input(\"ingrese una estatura:\\n\") \n    estatura=float(estatura)\n    \n    suma_estaturas= suma_estaturas+estatura\n    contador=contador+1\npromedio_estaturas= suma_estaturas/limite_estaturas\ncadena_presentar= \"el promedio es: \" + str(promedio_estaturas)\nprint(cadena_presentar)",
      "execution_count": 18,
      "outputs": [
        {
          "output_type": "stream",
          "name": "stdout",
          "text": "ingrese una estatura:\n2.2\ningrese una estatura:\n2.5\nel promedio es: 2.35\n"
        }
      ]
    },
    {
      "metadata": {
        "trusted": true
      },
      "cell_type": "code",
      "source": "",
      "execution_count": null,
      "outputs": []
    },
    {
      "metadata": {
        "trusted": true
      },
      "cell_type": "code",
      "source": "",
      "execution_count": null,
      "outputs": []
    },
    {
      "metadata": {
        "trusted": true
      },
      "cell_type": "code",
      "source": "",
      "execution_count": null,
      "outputs": []
    },
    {
      "metadata": {
        "trusted": true
      },
      "cell_type": "code",
      "source": "",
      "execution_count": null,
      "outputs": []
    }
  ],
  "metadata": {
    "kernelspec": {
      "name": "python36",
      "display_name": "Python 3.6",
      "language": "python"
    },
    "language_info": {
      "mimetype": "text/x-python",
      "nbconvert_exporter": "python",
      "name": "python",
      "pygments_lexer": "ipython3",
      "version": "3.6.6",
      "file_extension": ".py",
      "codemirror_mode": {
        "version": 3,
        "name": "ipython"
      }
    }
  },
  "nbformat": 4,
  "nbformat_minor": 2
}
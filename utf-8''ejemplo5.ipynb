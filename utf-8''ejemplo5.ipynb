{
  "cells": [
    {
      "metadata": {
        "trusted": true
      },
      "cell_type": "code",
      "source": "\"\"\"presentar la tabla de multiplicar de un numero que ingrese el usuario:\nejm si es 7 la tabla quedaria asi\n7*1=7\n7*2=14\n...\n7*10=70\n\"\"\"\n\ncontador=1\nlimite =10\nnumero= 8\noperacion= 0\ncadena_presentar= \"\"",
      "execution_count": 4,
      "outputs": []
    },
    {
      "metadata": {
        "trusted": true
      },
      "cell_type": "code",
      "source": "while contador <= limite:\n    operacion = numero * contador \n    cadena_presentar= str(numero) + \"*\" + str(contador)+\\\n    \"=\"+ str (operacion)\n    print (cadena_presentar)\n    contador = contador+1",
      "execution_count": 5,
      "outputs": [
        {
          "output_type": "stream",
          "text": "8*1=8\n8*2=16\n8*3=24\n8*4=32\n8*5=40\n8*6=48\n8*7=56\n8*8=64\n8*9=72\n8*10=80\n",
          "name": "stdout"
        }
      ]
    },
    {
      "metadata": {
        "trusted": true
      },
      "cell_type": "code",
      "source": "",
      "execution_count": null,
      "outputs": []
    }
  ],
  "metadata": {
    "kernelspec": {
      "name": "python36",
      "display_name": "Python 3.6",
      "language": "python"
    },
    "language_info": {
      "mimetype": "text/x-python",
      "nbconvert_exporter": "python",
      "name": "python",
      "pygments_lexer": "ipython3",
      "version": "3.6.6",
      "file_extension": ".py",
      "codemirror_mode": {
        "version": 3,
        "name": "ipython"
      }
    }
  },
  "nbformat": 4,
  "nbformat_minor": 2
}
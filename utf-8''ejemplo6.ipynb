{
  "cells": [
    {
      "metadata": {
        "trusted": true
      },
      "cell_type": "code",
      "source": "\"\"\"\nsi el usuario ingresa la opcion 1:\n   presentar la tabla de multiplicar de un numero que ingrese el usuario:\nsi el usuario ingresa opcion 2:\n   presentar la tabla de sumar de un numero que ingrese e usuario:\nsi ingresa una opcion diferente:\n  presentar una cadena \"usted ha ingresado una opcion incorrecta\"\nejm si es 7 la tabla quedaria asi\n7*1=7\n7*2=14\n...\n7*10=70\n\"\"\"\n\ncontador=1\nlimite =10\nopcion=0\nnumero=0\nopcion=input(\"ingrese una opcion:\\n\")\nopcion=int(opcion)\nnumero= input(\"ingrese un numero para operar:\\n\")\nnumero=int(numero)\noperacion=0\ncadena_presentar= \"\"\n",
      "execution_count": 6,
      "outputs": [
        {
          "output_type": "stream",
          "name": "stdout",
          "text": "ingrese una opcion:\n2\ningrese un numero para operar:\n2\n"
        }
      ]
    },
    {
      "metadata": {
        "trusted": true
      },
      "cell_type": "code",
      "source": "if opcion==1:\n    while contador <= limite:\n        operacion = numero * contador \n        cadena_presentar= str(numero) + \"*\" + str(contador)+\\\n        \"=\"+ str (operacion)\n        print (cadena_presentar)\n        contador = contador+1\nelse:\n    if opcion ==2:\n        while contador<=limite:\n            operacion = numero + contador\n            cadena_presentar= str(numero)+ \" + \" +str(contador)+\\\n            \"=\"+ str(operacion)\n            print(cadena_presentar)\n            contador= contador + 1\n    else :\n        print(\"usted ha ingresado una opcion diferente\")\n        ",
      "execution_count": 7,
      "outputs": [
        {
          "output_type": "stream",
          "text": "2 + 1=3\n2 + 2=4\n2 + 3=5\n2 + 4=6\n2 + 5=7\n2 + 6=8\n2 + 7=9\n2 + 8=10\n2 + 9=11\n2 + 10=12\n",
          "name": "stdout"
        }
      ]
    },
    {
      "metadata": {
        "trusted": true
      },
      "cell_type": "code",
      "source": "",
      "execution_count": null,
      "outputs": []
    }
  ],
  "metadata": {
    "kernelspec": {
      "name": "python36",
      "display_name": "Python 3.6",
      "language": "python"
    },
    "language_info": {
      "mimetype": "text/x-python",
      "nbconvert_exporter": "python",
      "name": "python",
      "pygments_lexer": "ipython3",
      "version": "3.6.6",
      "file_extension": ".py",
      "codemirror_mode": {
        "version": 3,
        "name": "ipython"
      }
    }
  },
  "nbformat": 4,
  "nbformat_minor": 2
}